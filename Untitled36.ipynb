{
 "cells": [
  {
   "cell_type": "code",
   "execution_count": null,
   "id": "19a421ac",
   "metadata": {},
   "outputs": [],
   "source": [
    "import pandas as pd\n",
    "import numpy as np\n",
    "import matplotlib.pyplot as plt\n",
    "import seaborn as sns \n",
    "from sklearn.feature_extraction.text import CountVectorizer\n",
    "count=CountVectorizer()\n",
    "\n",
    "\n",
    "data=pd.read_csv(\"Train.csv\")\n",
    "data.head()"
   ]
  },
  {
   "cell_type": "code",
   "execution_count": null,
   "id": "d7bda41b",
   "metadata": {},
   "outputs": [],
   "source": [
    "fig=plt.figure(figsize=(5,5))\n",
    "colors=[\"skyblue\",'pink']\n",
    "pos=data[data['label']==1]\n",
    "neg=data[data['label']==0]\n",
    "ck=[pos['label'].count(),neg['label'].count()]\n",
    "legpie=plt.pie(ck,labels=[\"Positive\",\"Negative\"],\n",
    "                 autopct ='%1.1f%%', \n",
    "                 shadow = True,\n",
    "                 colors = colors,\n",
    "                 startangle = 45,\n",
    "                 explode=(0, 0.1))"
   ]
  },
  {
   "cell_type": "code",
   "execution_count": null,
   "id": "38217277",
   "metadata": {},
   "outputs": [],
   "source": [
    "import re\n",
    "def preprocessor(text):\n",
    "             text=re.sub('<[^>]*>','',text)\n",
    "             emojis=re.findall('(?::|;|=)(?:-)?(?:\\)|\\(|D|P)',text)\n",
    "             text=re.sub('[\\W]+',' ',text.lower()) +\\\n",
    "                ' '.join(emojis).replace('-','')\n",
    "             return text   \n",
    "data['text']=data['text'].apply(preprocessor)"
   ]
  },
  {
   "cell_type": "code",
   "execution_count": null,
   "id": "1ad0f153",
   "metadata": {},
   "outputs": [],
   "source": [
    "import nltk\n",
    "nltk.download('stopwords')\n",
    "from nltk.corpus import stopwords\n",
    "stop=stopwords.words('english')\n",
    "\n",
    "from wordcloud import WordCloud\n",
    "positivedata = data[ data['label'] == 1]\n",
    "positivedata =positivedata['text']\n",
    "negdata = data[data['label'] == 0]\n",
    "negdata= negdata['text']\n",
    "\n",
    "def wordcloud_draw(data, color = 'white'):\n",
    "    words = ' '.join(data)\n",
    "    cleaned_word = \" \".join([word for word in words.split()\n",
    "                              if(word!='movie' and word!='film')\n",
    "                            ])\n",
    "    wordcloud = WordCloud(stopwords=stop,\n",
    "                      background_color=color,\n",
    "                      width=2500,\n",
    "                      height=2000\n",
    "                     ).generate(cleaned_word)\n",
    "    plt.figure(1,figsize=(10, 7))\n",
    "    plt.imshow(wordcloud)\n",
    "    plt.axis('off')\n",
    "    plt.show()\n",
    "    \n",
    "print(\"Positive words are as follows\")\n",
    "wordcloud_draw(positivedata,'white')\n",
    "print(\"Negative words are as follows\")\n",
    "wordcloud_draw(negdata)"
   ]
  },
  {
   "cell_type": "code",
   "execution_count": null,
   "id": "0a45c1d2",
   "metadata": {},
   "outputs": [],
   "source": [
    "from sklearn.linear_model import LogisticRegressionCV\n",
    "clf=LogisticRegressionCV(cv=6,scoring='accuracy',random_state=0,n_jobs=-1,verbose=3,max_iter=500).fit(X_train,y_train)\n",
    "y_pred = clf.predict(X_test)\n",
    "from sklearn import metrics\n",
    "\n",
    "# Model Accuracy, how often is the classifier correct?\n",
    "print(\"Accuracy:\",metrics.accuracy_score(y_test, y_pred))"
   ]
  }
 ],
 "metadata": {
  "kernelspec": {
   "display_name": "Python 3",
   "language": "python",
   "name": "python3"
  },
  "language_info": {
   "codemirror_mode": {
    "name": "ipython",
    "version": 3
   },
   "file_extension": ".py",
   "mimetype": "text/x-python",
   "name": "python",
   "nbconvert_exporter": "python",
   "pygments_lexer": "ipython3",
   "version": "3.8.8"
  }
 },
 "nbformat": 4,
 "nbformat_minor": 5
}
